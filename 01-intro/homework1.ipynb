{
 "cells": [
  {
   "cell_type": "code",
   "execution_count": 9,
   "id": "9a336fcb-1813-4617-ac17-ca39542b7a17",
   "metadata": {},
   "outputs": [],
   "source": [
    "import pandas as pd\n",
    "import numpy as np"
   ]
  },
  {
   "cell_type": "code",
   "execution_count": 10,
   "id": "b8d23ed5-faf4-4f55-a288-7bbbcda02b00",
   "metadata": {},
   "outputs": [],
   "source": [
    "import seaborn as sns\n",
    "import matplotlib.pyplot as plt"
   ]
  },
  {
   "cell_type": "code",
   "execution_count": 11,
   "id": "b5fed3be-fffc-40b7-a9ba-b4f24eed0b76",
   "metadata": {},
   "outputs": [],
   "source": [
    "from sklearn.feature_extraction import DictVectorizer\n",
    "from sklearn.linear_model import LinearRegression\n",
    "from sklearn.metrics import root_mean_squared_error"
   ]
  },
  {
   "cell_type": "code",
   "execution_count": 12,
   "id": "8f1debfe-03ce-420a-9bf9-6fac5dff9bb2",
   "metadata": {},
   "outputs": [],
   "source": [
    "train_filepath = \"./data/yellow_tripdata_2023-01.parquet\"\n",
    "valid_filepath = \"./data/yellow_tripdata_2023-02.parquet\""
   ]
  },
  {
   "cell_type": "markdown",
   "id": "80421e38-71b0-445e-a5f9-f941fbaed629",
   "metadata": {},
   "source": [
    "# *Q1.* Download the data\n",
    "### Read the data for January. How many columns are there?"
   ]
  },
  {
   "cell_type": "code",
   "execution_count": null,
   "id": "77dcb5f4-ba81-4e08-aa80-0f9283a1682a",
   "metadata": {},
   "outputs": [],
   "source": [
    "yellow_jan = pd.read_parquet(\"./data/yellow_tripdata_2023-01.parquet\")"
   ]
  },
  {
   "cell_type": "code",
   "execution_count": null,
   "id": "0551888a-96bb-4ec3-9268-46e9f68bd924",
   "metadata": {},
   "outputs": [],
   "source": [
    "print(yellow_jan.shape[1])"
   ]
  },
  {
   "cell_type": "markdown",
   "id": "e7266874-b073-4a9d-849f-ae230cb504bb",
   "metadata": {},
   "source": [
    "# *Q2.* Computing duration\n",
    "### What's the standard deviation of the trips duration in January?"
   ]
  },
  {
   "cell_type": "code",
   "execution_count": null,
   "id": "3358de3d-152a-4233-87ee-6c723be2dc11",
   "metadata": {},
   "outputs": [],
   "source": [
    "yellow_jan['duration'] = yellow_jan['tpep_dropoff_datetime'] - yellow_jan['tpep_pickup_datetime']\n",
    "yellow_jan['duration'] = yellow_jan['duration'].apply(lambda dt:dt.total_seconds()/60)"
   ]
  },
  {
   "cell_type": "code",
   "execution_count": null,
   "id": "ad25b437-5275-462e-9c34-80f1f4617d37",
   "metadata": {},
   "outputs": [],
   "source": [
    "yellow_jan.head()"
   ]
  },
  {
   "cell_type": "code",
   "execution_count": null,
   "id": "10f9a721-fe4a-4f45-81f1-39286303fd79",
   "metadata": {},
   "outputs": [],
   "source": [
    "yellow_jan.columns"
   ]
  },
  {
   "cell_type": "code",
   "execution_count": null,
   "id": "9702ad53-092d-41b7-80f8-b0801530595c",
   "metadata": {},
   "outputs": [],
   "source": [
    "print(np.std(yellow_jan.duration))"
   ]
  },
  {
   "cell_type": "markdown",
   "id": "0a043a09-a4ff-45a9-835f-b3ba0f41d9bd",
   "metadata": {},
   "source": [
    "# *Q3.* Dropping outliers\n",
    "### What fraction of the records left after you dropped the outliers?"
   ]
  },
  {
   "cell_type": "code",
   "execution_count": null,
   "id": "3a6aeafd-b1b5-40f3-8a5f-a9afda16d470",
   "metadata": {},
   "outputs": [],
   "source": [
    "yellow_jan.duration.describe()"
   ]
  },
  {
   "cell_type": "code",
   "execution_count": null,
   "id": "42d16d70-42b0-4b26-a2e7-623815813879",
   "metadata": {},
   "outputs": [],
   "source": [
    "yellow_jan_filtered = yellow_jan[(yellow_jan.duration > 1) & (yellow_jan.duration < 60)]"
   ]
  },
  {
   "cell_type": "code",
   "execution_count": null,
   "id": "d2c90e9d-2f29-4cc5-b088-3447fe358e3d",
   "metadata": {},
   "outputs": [],
   "source": [
    "print(f\"{len(yellow_jan_filtered)/len(yellow_jan):.2%}\")"
   ]
  },
  {
   "cell_type": "markdown",
   "id": "6431c74f-255b-4d64-a769-eea07007f786",
   "metadata": {},
   "source": [
    "# *Q4.* One-hot encoding\n",
    "### What's the dimensionality of this matrix (number of columns)?"
   ]
  },
  {
   "cell_type": "code",
   "execution_count": 13,
   "id": "1c33373c-2448-4ca3-9479-1be1e518e529",
   "metadata": {},
   "outputs": [],
   "source": [
    "def read_and_transfrom(filepath):\n",
    "    df = pd.read_parquet(filepath)\n",
    "    categorical = ['PULocationID', 'DOLocationID']\n",
    "    df[categorical] = df[categorical].astype('str')\n",
    "    df['duration'] = df['tpep_dropoff_datetime'] - df['tpep_pickup_datetime']\n",
    "    df['duration'] = df['duration'].apply(lambda dt:dt.total_seconds()/60)\n",
    "    df = df[(df.duration > 1) & (df.duration < 60)]\n",
    "    return df"
   ]
  },
  {
   "cell_type": "code",
   "execution_count": 19,
   "id": "438de9e5-2a6d-49e9-9cf4-06e334cc9c9c",
   "metadata": {},
   "outputs": [],
   "source": [
    "df_train = read_and_transfrom(train_filepath)\n",
    "df_val = read_and_transfrom(valid_filepath)"
   ]
  },
  {
   "cell_type": "code",
   "execution_count": 22,
   "id": "4c5ffeac-16d0-4d1e-bec3-1a2b1bad6947",
   "metadata": {},
   "outputs": [
    {
     "name": "stdout",
     "output_type": "stream",
     "text": [
      "515\n"
     ]
    }
   ],
   "source": [
    "categorical = ['PULocationID', 'DOLocationID']\n",
    "target = 'duration'\n",
    "dv = DictVectorizer()\n",
    "train_dict = df_train[categorical].to_dict(orient = 'records')\n",
    "val_dict = df_val[categorical].to_dict(orient = 'records')\n",
    "\n",
    "X_train = dv.fit_transform(train_dict)\n",
    "X_val = dv.transform(val_dict)\n",
    "\n",
    "y_train = df_train[target]\n",
    "y_val = df_val[target]\n",
    "print(X_train.shape[1])"
   ]
  },
  {
   "cell_type": "markdown",
   "id": "8e45a659-fa38-411f-873e-dcdfcef44169",
   "metadata": {},
   "source": [
    "# *Q5.* Training a model\n",
    "\n",
    "### What's the RMSE on train?"
   ]
  },
  {
   "cell_type": "code",
   "execution_count": 17,
   "id": "d135507b-1ba5-413f-b26e-6d5c254d8286",
   "metadata": {},
   "outputs": [
    {
     "name": "stdout",
     "output_type": "stream",
     "text": [
      "7.647511908824672\n"
     ]
    }
   ],
   "source": [
    "lr = LinearRegression()\n",
    "lr.fit(X_train, y_train)\n",
    "y_pred_train = lr.predict(X_train)\n",
    "print(root_mean_squared_error(y_train,y_pred))"
   ]
  },
  {
   "cell_type": "markdown",
   "id": "a17b9a2d-63a8-45ce-9dd7-eab7aa6d5410",
   "metadata": {},
   "source": [
    "# *Q6.* Evaluating the model\n",
    "### What's the RMSE on validation?"
   ]
  },
  {
   "cell_type": "code",
   "execution_count": 23,
   "id": "6d8b94da-8765-4a96-9870-268ab50a05c1",
   "metadata": {},
   "outputs": [
    {
     "name": "stdout",
     "output_type": "stream",
     "text": [
      "7.808398219721731\n"
     ]
    }
   ],
   "source": [
    "y_pred_val = lr.predict(X_val)\n",
    "print(root_mean_squared_error(y_val,y_pred_val))"
   ]
  },
  {
   "cell_type": "code",
   "execution_count": null,
   "id": "1069dd5e-7994-4f4e-b072-f2faa3bc1d49",
   "metadata": {},
   "outputs": [],
   "source": []
  }
 ],
 "metadata": {
  "kernelspec": {
   "display_name": "Python 3 (ipykernel)",
   "language": "python",
   "name": "python3"
  },
  "language_info": {
   "codemirror_mode": {
    "name": "ipython",
    "version": 3
   },
   "file_extension": ".py",
   "mimetype": "text/x-python",
   "name": "python",
   "nbconvert_exporter": "python",
   "pygments_lexer": "ipython3",
   "version": "3.12.9"
  }
 },
 "nbformat": 4,
 "nbformat_minor": 5
}
